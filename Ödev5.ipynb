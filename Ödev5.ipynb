{
 "cells": [
  {
   "cell_type": "code",
   "execution_count": 2,
   "id": "eefd9c96-7592-46a7-a64d-89b72428791a",
   "metadata": {},
   "outputs": [],
   "source": [
    "# \"Hi-Kod Veri Bilimi Atölyesi\" ifadesi bir değişkene atanır\n",
    "ifade = \"Hi-Kod Veri Bilimi Atölyesi\"\n"
   ]
  },
  {
   "cell_type": "code",
   "execution_count": 3,
   "id": "44edf552-20f9-4e2c-a004-8ef2971959c2",
   "metadata": {},
   "outputs": [
    {
     "name": "stdout",
     "output_type": "stream",
     "text": [
      "1. parça: Hi-Kod\n",
      "2. parça: Veri\n",
      "3. parça: Bilimi\n",
      "4. parça: Atölyesi\n"
     ]
    }
   ],
   "source": [
    "# 1. İfadedeki her bir kelimeyi seçme\n",
    "print(\"1. parça:\", ifade.split()[0])  \n",
    "print(\"2. parça:\", ifade.split()[1])\n",
    "print(\"3. parça:\", ifade.split()[2])  \n",
    "print(\"4. parça:\", ifade.split()[3])  "
   ]
  },
  {
   "cell_type": "code",
   "execution_count": 4,
   "id": "680ba85d-c2a0-4179-9504-33c8a317240c",
   "metadata": {},
   "outputs": [
    {
     "name": "stdout",
     "output_type": "stream",
     "text": [
      "\n",
      "BÜYÜK HARF: HI-KOD VERI BILIMI ATÖLYESI\n"
     ]
    }
   ],
   "source": [
    "# 2. Tüm ifadeyi büyük harfe çevirme\n",
    "print(\"\\nBÜYÜK HARF:\", ifade.upper())\n",
    "\n"
   ]
  },
  {
   "cell_type": "code",
   "execution_count": 5,
   "id": "5de1b22b-1158-401b-a68e-14a84bf056a7",
   "metadata": {},
   "outputs": [
    {
     "name": "stdout",
     "output_type": "stream",
     "text": [
      "küçük harf: hi-kod veri bilimi atölyesi\n"
     ]
    }
   ],
   "source": [
    "# 3. İfadeyi küçük harfe çevirme\n",
    "print(\"küçük harf:\", ifade.lower())"
   ]
  },
  {
   "cell_type": "code",
   "execution_count": 6,
   "id": "19bc7254-8c24-4e8b-b5ae-e91619654d26",
   "metadata": {},
   "outputs": [
    {
     "name": "stdout",
     "output_type": "stream",
     "text": [
      "\n",
      "Çift sayılar: 02468\n",
      "Tek sayılar: 13579\n"
     ]
    }
   ],
   "source": [
    "# \"0123456789\" ifadesindeki çift ve tek sayıları seçme\n",
    "rakamlar = \"0123456789\"\n",
    "cift_sayilar = \"\"\n",
    "tek_sayilar = \"\"\n",
    "\n",
    "for rakam in rakamlar:\n",
    "    if int(rakam) % 2 == 0:\n",
    "        cift_sayilar += rakam\n",
    "    else:\n",
    "        tek_sayilar += rakam\n",
    "\n",
    "print(\"\\nÇift sayılar:\", cift_sayilar)\n",
    "print(\"Tek sayılar:\", tek_sayilar)"
   ]
  }
 ],
 "metadata": {
  "kernelspec": {
   "display_name": "Python 3 (ipykernel)",
   "language": "python",
   "name": "python3"
  },
  "language_info": {
   "codemirror_mode": {
    "name": "ipython",
    "version": 3
   },
   "file_extension": ".py",
   "mimetype": "text/x-python",
   "name": "python",
   "nbconvert_exporter": "python",
   "pygments_lexer": "ipython3",
   "version": "3.12.7"
  }
 },
 "nbformat": 4,
 "nbformat_minor": 5
}
