{
 "cells": [
  {
   "cell_type": "code",
   "execution_count": 3,
   "id": "1eb5021b-c3a3-4ff5-a44d-975c2073e889",
   "metadata": {},
   "outputs": [
    {
     "name": "stdout",
     "output_type": "stream",
     "text": [
      "Feriha, Emir'den küçük mü ve Hande'den büyük mü ?\n",
      "True\n"
     ]
    }
   ],
   "source": [
    "Feriha = 24\n",
    "Emir = 28\n",
    "Hande = 22\n",
    "print(\"Feriha, Emir'den küçük mü ve Hande'den büyük mü ?\")\n",
    "print( Feriha < Emir and Feriha > Hande)\n",
    "\n"
   ]
  },
  {
   "cell_type": "code",
   "execution_count": 2,
   "id": "45909e06-1545-44fe-926e-7b89ea209f80",
   "metadata": {},
   "outputs": [
    {
     "name": "stdout",
     "output_type": "stream",
     "text": [
      "Hande,Emir'den büyük mü veya Feriha ile aynı yaşta mı?\n",
      "False\n"
     ]
    }
   ],
   "source": [
    "print(\"Hande,Emir'den büyük mü veya Feriha ile aynı yaşta mı?\")\n",
    "print(Hande> Emir or Hande == Feriha)"
   ]
  },
  {
   "cell_type": "code",
   "execution_count": 8,
   "id": "7cbadbf3-08db-435b-b7e7-dcd5aee0da75",
   "metadata": {},
   "outputs": [
    {
     "name": "stdout",
     "output_type": "stream",
     "text": [
      "Feriha, Hande'den küçük değil mi?\n",
      "True\n"
     ]
    }
   ],
   "source": [
    "print(\"Feriha, Hande'den küçük değil mi?\")\n",
    "print( not (Feriha < Hande)) "
   ]
  },
  {
   "cell_type": "code",
   "execution_count": 9,
   "id": "5c08cb70-6345-4bd9-81ff-ad899a8a3323",
   "metadata": {},
   "outputs": [
    {
     "name": "stdout",
     "output_type": "stream",
     "text": [
      "Feriha ve Hande'nin yaşı eşit değil mi?\n",
      "False\n"
     ]
    }
   ],
   "source": [
    "print(\"Feriha ve Hande'nin yaşı eşit değil mi?\")\n",
    "print(Feriha == Hande)"
   ]
  },
  {
   "cell_type": "code",
   "execution_count": 11,
   "id": "7135ef75-7a15-47a8-ba00-62cb33341514",
   "metadata": {},
   "outputs": [
    {
     "name": "stdout",
     "output_type": "stream",
     "text": [
      "Emir, hem Hande'den hem de Feriha'dan büyük mü ?\n",
      "True\n"
     ]
    }
   ],
   "source": [
    "print(\"Emir, hem Hande'den hem de Feriha'dan büyük mü ?\")\n",
    "print(Emir > Hande and Emir > Feriha)"
   ]
  },
  {
   "cell_type": "code",
   "execution_count": null,
   "id": "0fbb7b42-924e-49a2-8c89-c9a9b9709133",
   "metadata": {},
   "outputs": [],
   "source": []
  }
 ],
 "metadata": {
  "kernelspec": {
   "display_name": "Python 3 (ipykernel)",
   "language": "python",
   "name": "python3"
  },
  "language_info": {
   "codemirror_mode": {
    "name": "ipython",
    "version": 3
   },
   "file_extension": ".py",
   "mimetype": "text/x-python",
   "name": "python",
   "nbconvert_exporter": "python",
   "pygments_lexer": "ipython3",
   "version": "3.12.7"
  }
 },
 "nbformat": 4,
 "nbformat_minor": 5
}
