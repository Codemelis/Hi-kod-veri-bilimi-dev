{
 "cells": [
  {
   "cell_type": "code",
   "execution_count": null,
   "id": "8452d0f8-b027-473b-9659-3a083eadb5a7",
   "metadata": {},
   "outputs": [],
   "source": [
    "## Sozluk"
   ]
  },
  {
   "cell_type": "markdown",
   "id": "eb7d2dba-0950-42dc-ab07-672dba6c6957",
   "metadata": {},
   "source": [
    "1. Bir sözlük oluşturulur ve bu sözlükte öğrencilerin isimleri ve Matematik, Fizik, Kimya notları tutulur. Kullanıcıdan isim ve ders ismi(Matematik, Fizik, Kimya) istenir ve bu bilgilere göre çıktı verilir."
   ]
  },
  {
   "cell_type": "markdown",
   "id": "c3015fc1-8736-4088-ae1b-95ba53437050",
   "metadata": {},
   "source": [
    "2. Sözlük üzerinde değerleri değiştirme, yeni değer ekleme, kullanıcıya ulaşmak istediği bilgileri sorma gibi uygulamalar yapın."
   ]
  },
  {
   "cell_type": "code",
   "execution_count": null,
   "id": "a5fc882b-712e-41ab-8b0e-70d564a541c5",
   "metadata": {},
   "outputs": [
    {
     "name": "stdout",
     "output_type": "stream",
     "text": [
      "\n",
      "--- Öğrenci Not Sistemi ---\n",
      "1 - Not Sorgula\n",
      "2 - Not Güncelle\n",
      "3 - Yeni Öğrenci Ekle\n",
      "4 - Tüm Öğrencileri Listele\n",
      "5 - Çıkış\n"
     ]
    }
   ],
   "source": [
    "\n",
    "ogrenciler = {\n",
    "    \"Ali\": {\"Matematik\": 85, \"Fizik\": 78, \"Kimya\": 92},\n",
    "    \"Ayşe\": {\"Matematik\": 90, \"Fizik\": 88, \"Kimya\": 76},\n",
    "    \"Mehmet\": {\"Matematik\": 70, \"Fizik\": 60, \"Kimya\": 80}\n",
    "}\n",
    "\n",
    "def not_sorgula():\n",
    "    isim = input(\"Öğrenci ismi giriniz: \")\n",
    "    ders = input(\"Hangi dersin notunu öğrenmek istiyorsunuz? (Matematik/Fizik/Kimya): \")\n",
    "    if isim in ogrenciler:\n",
    "        if ders in ogrenciler[isim]:\n",
    "            print(f\"{isim} adlı öğrencinin {ders} notu: {ogrenciler[isim][ders]}\")\n",
    "        else:\n",
    "            print(f\"{ders} dersi bulunamadı.\")\n",
    "    else:\n",
    "        print(\"Öğrenci bulunamadı.\")\n",
    "\n",
    "def not_guncelle():\n",
    "    isim = input(\"Notunu güncellemek istediğiniz öğrencinin ismini girin: \")\n",
    "    ders = input(\"Ders adını girin (Matematik/Fizik/Kimya): \")\n",
    "    yeni_not = int(input(f\"{isim} öğrencisinin {ders} notunu girin: \"))\n",
    "    if isim in ogrenciler:\n",
    "        ogrenciler[isim][ders] = yeni_not\n",
    "        print(f\"{isim} öğrencisinin {ders} notu {yeni_not} olarak güncellendi.\")\n",
    "    else:\n",
    "        print(\"Öğrenci bulunamadı.\")\n",
    "\n",
    "def yeni_ogrenci_ekle():\n",
    "    isim = input(\"Yeni öğrencinin ismini girin: \")\n",
    "    mat = int(input(\"Matematik notunu girin: \"))\n",
    "    fiz = int(input(\"Fizik notunu girin: \"))\n",
    "    kim = int(input(\"Kimya notunu girin: \"))\n",
    "    ogrenciler[isim] = {\"Matematik\": mat, \"Fizik\": fiz, \"Kimya\": kim}\n",
    "    print(f\"{isim} adlı öğrenci başarıyla eklendi.\")\n",
    "\n",
    "def ogrencileri_listele():\n",
    "    print(\"\\nTüm öğrenciler ve notları:\")\n",
    "    for isim, dersler in ogrenciler.items():\n",
    "        print(f\"\\n{isim}:\")\n",
    "        for ders, notu in dersler.items():\n",
    "            print(f\"  {ders}: {notu}\")\n",
    "\n",
    "\n",
    "def menu():\n",
    "    while True:\n",
    "        print(\"\\n--- Öğrenci Not Sistemi ---\")\n",
    "        print(\"1 - Not Sorgula\")\n",
    "        print(\"2 - Not Güncelle\")\n",
    "        print(\"3 - Yeni Öğrenci Ekle\")\n",
    "        print(\"4 - Tüm Öğrencileri Listele\")\n",
    "        print(\"5 - Çıkış\")\n",
    "\n",
    "        secim = input(\"Seçiminizi yapınız (1-5): \")\n",
    "\n",
    "        if secim == \"1\":\n",
    "            not_sorgula()\n",
    "        elif secim == \"2\":\n",
    "            not_guncelle()\n",
    "        elif secim == \"3\":\n",
    "            yeni_ogrenci_ekle()\n",
    "        elif secim == \"4\":\n",
    "            ogrencileri_listele()\n",
    "        elif secim == \"5\":\n",
    "            print(\"Programdan çıkılıyor...\")\n",
    "            break\n",
    "        else:\n",
    "            print(\"Geçersiz seçim. Lütfen 1-5 arasında bir değer girin.\")\n",
    "\n",
    "\n",
    "menu()\n"
   ]
  }
 ],
 "metadata": {
  "kernelspec": {
   "display_name": "Python 3 (ipykernel)",
   "language": "python",
   "name": "python3"
  },
  "language_info": {
   "codemirror_mode": {
    "name": "ipython",
    "version": 3
   },
   "file_extension": ".py",
   "mimetype": "text/x-python",
   "name": "python",
   "nbconvert_exporter": "python",
   "pygments_lexer": "ipython3",
   "version": "3.12.7"
  }
 },
 "nbformat": 4,
 "nbformat_minor": 5
}
