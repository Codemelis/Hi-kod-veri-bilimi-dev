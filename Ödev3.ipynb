{
 "cells": [
  {
   "cell_type": "code",
   "execution_count": null,
   "id": "0a60ce15-ac71-4b0f-bd27-66804e7d5248",
   "metadata": {},
   "outputs": [],
   "source": [
    "Değer1 = float(input(\"Birinci değeri girin: \"))\n",
    "Değer2 = float(input(\"İkinci değeri girin: \"))\n"
   ]
  },
  {
   "cell_type": "code",
   "execution_count": null,
   "id": "2703a19e-049c-43aa-acfc-49f4568dbf14",
   "metadata": {},
   "outputs": [],
   "source": [
    "print(\"Toplama:\",Değer1+ Değer2)"
   ]
  },
  {
   "cell_type": "code",
   "execution_count": null,
   "id": "992349a3-7762-4537-905f-fe36c9dbf645",
   "metadata": {},
   "outputs": [],
   "source": [
    "print(\"Çıkarma:\", Değer1 - Değer2)\n"
   ]
  },
  {
   "cell_type": "code",
   "execution_count": null,
   "id": "81f36f71-5e0d-4157-8936-cc8779e5fbae",
   "metadata": {},
   "outputs": [],
   "source": [
    "print(\"Çarpma:\", Değer1 * Değer2)"
   ]
  },
  {
   "cell_type": "code",
   "execution_count": null,
   "id": "507c7597-b51f-4d78-b8d8-d78e4f8711f1",
   "metadata": {},
   "outputs": [],
   "source": [
    "print(\"Bölme:\", Değer1 / Değer2)"
   ]
  },
  {
   "cell_type": "code",
   "execution_count": null,
   "id": "3cb94ba1-eea1-4754-b220-d4c3d2dd5f52",
   "metadata": {},
   "outputs": [],
   "source": []
  }
 ],
 "metadata": {
  "kernelspec": {
   "display_name": "Python 3 (ipykernel)",
   "language": "python",
   "name": "python3"
  },
  "language_info": {
   "codemirror_mode": {
    "name": "ipython",
    "version": 3
   },
   "file_extension": ".py",
   "mimetype": "text/x-python",
   "name": "python",
   "nbconvert_exporter": "python",
   "pygments_lexer": "ipython3",
   "version": "3.12.7"
  }
 },
 "nbformat": 4,
 "nbformat_minor": 5
}
