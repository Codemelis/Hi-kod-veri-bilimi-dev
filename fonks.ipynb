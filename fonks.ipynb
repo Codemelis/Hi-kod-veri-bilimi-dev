{
 "cells": [
  {
   "cell_type": "markdown",
   "id": "538478ed-8a6b-4042-aeb6-a3f0435a5d2a",
   "metadata": {},
   "source": [
    "#### Ödev 1\n",
    "Kullanıcıdan pi değeri ve yarıçap bilgisi alarak dairenin alanını hesaplayan bir fonksiyon oluşturulur."
   ]
  },
  {
   "cell_type": "code",
   "execution_count": null,
   "id": "2f2c99be-8780-41aa-ae7b-65752263cf11",
   "metadata": {},
   "outputs": [],
   "source": [
    "# Kullanıcıdan pi değeri ve yarıçap alınır\n",
    "pi = float(input(\"Pi değerini girin (örnek: 3.14): \"))\n",
    "yaricap = float(input(\"Yarıçapı girin: \"))\n",
    "\n",
    "# Dairenin alanı hesaplanır\n",
    "alan = pi * (yaricap ** 2)\n",
    "\n",
    "# Sonuç ekrana yazdırılır\n",
    "print(\"Dairenin alanı:\", alan)\n"
   ]
  },
  {
   "cell_type": "markdown",
   "id": "9aa895f6-e812-45ba-856b-ace5b34fa9c1",
   "metadata": {},
   "source": [
    "#### Ödev 2\n",
    "\n",
    "Faktöriyel adında fonksiyon oluşturulur. Döngü kullanarak parametre olarak girilen sayının faktöriyeli hesaplanır. Format metodunu kullanılarak ekrana yazdırılır."
   ]
  },
  {
   "cell_type": "code",
   "execution_count": null,
   "id": "0e2078c1-6352-4238-8208-618b367db89d",
   "metadata": {},
   "outputs": [],
   "source": [
    "def faktoriyel(sayi):\n",
    "    sonuc = 1\n",
    "    for i in range(1, sayi + 1):\n",
    "        sonuc *= i\n",
    "    print(\"{}! = {}\".format(sayi, sonuc))\n",
    "\n",
    "# Kullanıcıdan sayı al\n",
    "sayi = int(input(\"Faktöriyelini hesaplamak istediğiniz sayıyı girin: \"))\n",
    "\n",
    "# Fonksiyonu çağır\n",
    "faktoriyel(sayi)\n"
   ]
  },
  {
   "cell_type": "markdown",
   "id": "c7ee2c2f-cea3-4ce6-8518-62993d0946e0",
   "metadata": {},
   "source": [
    "#### Ödev 3\n",
    "Kişinin fonksiyona doğum yılını vererek kaç yaşında olduğunu hesaplayan bir fonksiyon oluşturun. "
   ]
  },
  {
   "cell_type": "code",
   "execution_count": null,
   "id": "49b33f30-654e-453a-89ad-fe5db517adef",
   "metadata": {},
   "outputs": [],
   "source": [
    "def Yas_hesapla(dogum_yili):\n",
    "  yas = 2024 - dogum_yili\n",
    "  return yas\n",
    "    \n",
    "Yas_hesapla()"
   ]
  },
  {
   "cell_type": "markdown",
   "id": "8025a03f-3f09-40d4-a592-ef90d03b45c9",
   "metadata": {},
   "source": [
    "#### Ödev 4\n",
    "\n",
    "Doğum yılı ve isim bilgisi verilen fonksiyon kişinin emekli olup olmadığını söylesin.(Kişi 65 yaşında ise emekli olur.) Burada yaş hesabını yukarıdaki örnekteki fonksiyonu kullanarak yapsın.(Yani fonksiyon içinde fonksiyon kullanmanızı istiyorum :)) Kişi 65 yaşında ya da daha fazlaysa \"Emekli oldunuz\" yanıtını, 65 yaşından küçükse emekliliğine kaç yıl kaldığını da hesaplayarak \"(isim) emekliliğine (yıl) kaldı.\" yanıtını versin."
   ]
  },
  {
   "cell_type": "code",
   "execution_count": null,
   "id": "0c200962-83c9-4f75-8578-74a69c8e517d",
   "metadata": {},
   "outputs": [],
   "source": [
    "def Yas_hesapla(dogum_yili):\n",
    "    mevcut_yil = 2025  # Sabit yıl olarak belirledik, istersen datetime ile güncel yapabiliriz\n",
    "    return mevcut_yil - dogum_yili\n",
    "\n",
    "def Emeklilik(dogum_yili, isim):\n",
    "    yas = Yas_hesapla(dogum_yili)\n",
    "    if yas >= 65:\n",
    "        print(\"Emekli oldunuz.\")\n",
    "    else:\n",
    "        kalan_yil = 65 - yas\n",
    "        print(f\"{isim} emeklilik için {kalan_yil} yılın kaldı.\")\n",
    "\n",
    "# Kullanıcıdan bilgi alma ve fonksiyonu çağırma\n",
    "isim = input(\"İsminizi girin: \")\n",
    "dogum_yili = int(input(\"Doğum yılınızı girin: \"))\n",
    "\n",
    "Emeklilik(dogum_yili, isim)\n"
   ]
  },
  {
   "cell_type": "code",
   "execution_count": null,
   "id": "3d7486db-8ff2-4634-be49-8b6c67aba28d",
   "metadata": {},
   "outputs": [],
   "source": []
  }
 ],
 "metadata": {
  "kernelspec": {
   "display_name": "Python 3 (ipykernel)",
   "language": "python",
   "name": "python3"
  },
  "language_info": {
   "codemirror_mode": {
    "name": "ipython",
    "version": 3
   },
   "file_extension": ".py",
   "mimetype": "text/x-python",
   "name": "python",
   "nbconvert_exporter": "python",
   "pygments_lexer": "ipython3",
   "version": "3.12.7"
  }
 },
 "nbformat": 4,
 "nbformat_minor": 5
}
