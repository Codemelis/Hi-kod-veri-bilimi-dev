{
 "cells": [
  {
   "cell_type": "code",
   "execution_count": null,
   "id": "c0aa4c52-37a3-4733-aef5-34509e45a8fe",
   "metadata": {},
   "outputs": [],
   "source": [
    "İsim = input(\"isminizi giriniz:\")\n",
    "Yaş = input(\"Yaşınızı giriniz:\")\n",
    "Şehir = input(\"Şehir giriniz:\")\n",
    "Meslek = input(\"Mesleğinizi giriniz:\")"
   ]
  },
  {
   "cell_type": "code",
   "execution_count": null,
   "id": "1002fdb2-3524-42b7-9da1-fbe1af1b5446",
   "metadata": {},
   "outputs": [],
   "source": [
    "print(\"\\n --- Kullanıcı Bilgileri ---\")\n",
    "print(\"İsim:\" ,İsim)\n",
    "print(\"Yaş:\", Yaş)\n",
    "print(\"Şehir:\",Şehir)\n",
    "print(\"Meslek:\", Meslek)"
   ]
  },
  {
   "cell_type": "code",
   "execution_count": null,
   "id": "1bf40940-0d44-4146-90a6-e3da48156622",
   "metadata": {},
   "outputs": [],
   "source": []
  }
 ],
 "metadata": {
  "kernelspec": {
   "display_name": "Python 3 (ipykernel)",
   "language": "python",
   "name": "python3"
  },
  "language_info": {
   "codemirror_mode": {
    "name": "ipython",
    "version": 3
   },
   "file_extension": ".py",
   "mimetype": "text/x-python",
   "name": "python",
   "nbconvert_exporter": "python",
   "pygments_lexer": "ipython3",
   "version": "3.12.7"
  }
 },
 "nbformat": 4,
 "nbformat_minor": 5
}
