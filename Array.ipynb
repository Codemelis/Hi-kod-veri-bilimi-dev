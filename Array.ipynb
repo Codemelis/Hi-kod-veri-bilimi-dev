{
 "cells": [
  {
   "cell_type": "markdown",
   "id": "707e6f35-4882-4d3d-95ec-a50362caa3df",
   "metadata": {},
   "source": [
    "1.Sayılardan oluşan bir boyutlu array oluşturun. Arrayi oluştururken sayıların veri tipini integer olarak belirtelim.\n",
    "\n",
    "Oluşturulan arrayin boyut, eleman sayısı bilgilerine bakalım."
   ]
  },
  {
   "cell_type": "code",
   "execution_count": 1,
   "id": "62a7cd56-74ca-4cd0-a339-3a84e8641f3f",
   "metadata": {},
   "outputs": [
    {
     "name": "stdout",
     "output_type": "stream",
     "text": [
      "Array: [3 7 9 2 1]\n",
      "Boyut: 1\n",
      "Eleman sayısı: 5\n",
      "Şekli: (5,)\n"
     ]
    }
   ],
   "source": [
    "import numpy as np\n",
    "\n",
    "# Integer veri tipinde bir boyutlu array oluşturulması\n",
    "array1 = np.array([3, 7, 9, 2, 1], dtype=int)\n",
    "\n",
    "# Array bilgileri\n",
    "print(\"Array:\", array1)\n",
    "print(\"Boyut:\", array1.ndim)\n",
    "print(\"Eleman sayısı:\", array1.size)\n",
    "print(\"Şekli:\", array1.shape)\n",
    "\n"
   ]
  },
  {
   "cell_type": "markdown",
   "id": "5e8d2e9c-3cb1-4c64-8513-05ade63ac72f",
   "metadata": {},
   "source": [
    "2. Aşağıda verilen iki boyutlu ve üç boyutlu arrayi oluşturalım. Bu arraylerin boyut, eleman sayısı, satır, sütun bilgilerine ulaşalım.\n",
    "\n",
    "İki boyutlu array:\n",
    "[[1,2,6,7],\n",
    "[4,3,9,5]]\n",
    "\n",
    "Üç boyutlu array:\n",
    "[[[7,5,14],[21,8,11]],\n",
    "[[8,6,20],[14,3,9]]]\n",
    "\n"
   ]
  },
  {
   "cell_type": "code",
   "execution_count": 2,
   "id": "1d6c8f91-64e0-458c-975b-11dddf2629b9",
   "metadata": {},
   "outputs": [
    {
     "name": "stdout",
     "output_type": "stream",
     "text": [
      "2D Array:\n",
      " [[1 2 6 7]\n",
      " [4 3 9 5]]\n",
      "Boyut: 2\n",
      "Şekil (satır, sütun): (2, 4)\n",
      "Eleman sayısı: 8\n",
      "3D Array:\n",
      " [[[ 7  5 14]\n",
      "  [21  8 11]]\n",
      "\n",
      " [[ 8  6 20]\n",
      "  [14  3  9]]]\n",
      "Boyut: 3\n",
      "Şekil: (2, 2, 3)\n",
      "Eleman sayısı: 12\n"
     ]
    }
   ],
   "source": [
    "# İki boyutlu array\n",
    "array2d = np.array([[1, 2, 6, 7],\n",
    "                    [4, 3, 9, 5]])\n",
    "\n",
    "# Üç boyutlu array\n",
    "array3d = np.array([[[7, 5, 14], [21, 8, 11]],\n",
    "                    [[8, 6, 20], [14, 3, 9]]])\n",
    "\n",
    "# İki boyutlu array bilgileri\n",
    "print(\"2D Array:\\n\", array2d)\n",
    "print(\"Boyut:\", array2d.ndim)\n",
    "print(\"Şekil (satır, sütun):\", array2d.shape)\n",
    "print(\"Eleman sayısı:\", array2d.size)\n",
    "\n",
    "# Üç boyutlu array bilgileri\n",
    "print(\"3D Array:\\n\", array3d)\n",
    "print(\"Boyut:\", array3d.ndim)\n",
    "print(\"Şekil:\", array3d.shape)\n",
    "print(\"Eleman sayısı:\", array3d.size)\n"
   ]
  },
  {
   "cell_type": "markdown",
   "id": "b079d1ed-f691-41a3-98f7-dfafcc20db31",
   "metadata": {},
   "source": [
    "3. İstenilen elamanlara ulaşmak için arrayler üzerinde indexleme işlemi yapalım.\n",
    "\n",
    "İki boyutlu arraydaki 2 elemanına ulaşalım.\n",
    "\n",
    "İki boyutlu arraydaki 7 elemanına ulaşalım.\n",
    "\n",
    "Üç boyutlu arraydaki 9 elemanına ulaşalım.\n",
    "\n",
    "Üç boyutlu arraydaki 5 elemanına ulaşalım."
   ]
  },
  {
   "cell_type": "code",
   "execution_count": 3,
   "id": "f5842861-7445-4949-bb00-cc9cbc85781c",
   "metadata": {},
   "outputs": [
    {
     "name": "stdout",
     "output_type": "stream",
     "text": [
      "2D arraydeki 2 elemanı: 2\n",
      "2D arraydeki 7 elemanı: 7\n",
      "3D arraydeki 9 elemanı: 9\n",
      "3D arraydeki 5 elemanı: 5\n"
     ]
    }
   ],
   "source": [
    "# 2 elemanı\n",
    "print(\"2D arraydeki 2 elemanı:\", array2d[0, 1])\n",
    "\n",
    "# 7 elemanı\n",
    "print(\"2D arraydeki 7 elemanı:\", array2d[0, 3])\n",
    "\n",
    "# 9 elemanı\n",
    "print(\"3D arraydeki 9 elemanı:\", array3d[1, 1, 2])\n",
    "\n",
    "# 5 elemanı\n",
    "print(\"3D arraydeki 5 elemanı:\", array3d[0, 0, 1])\n"
   ]
  },
  {
   "cell_type": "markdown",
   "id": "bc426047-f14c-4e01-b64d-6397906e828c",
   "metadata": {},
   "source": [
    "4. Arrayler üzerinde slicing işlemi uygulayalım.\n",
    "\n",
    "İki boyutlu arraydaki 2,6 elemanlarına ulaşalım.\n",
    "\n",
    "İki boyutlu arraydaki 3,9,5 elemanlarına ulaşalım.\n",
    "\n",
    "Üç boyutlu arraydaki 21,8,11 elemanlarına ulaşalım.\n",
    "\n",
    "Üç boyutlu arraydaki 6,20 elemanlarına ulaşalım"
   ]
  },
  {
   "cell_type": "code",
   "execution_count": 4,
   "id": "bda3a92f-ebc3-491e-8651-3b8b53fae459",
   "metadata": {},
   "outputs": [
    {
     "name": "stdout",
     "output_type": "stream",
     "text": [
      "2D arraydeki 2 ve 6 elemanları: [2 6]\n",
      "2D arraydeki 3, 9, 5 elemanları: [3 9 5]\n",
      "3D arraydeki 21, 8, 11 elemanları: [21  8 11]\n",
      "3D arraydeki 6, 20 elemanları: [ 6 20]\n"
     ]
    }
   ],
   "source": [
    "# 2 ve 6 elemanları\n",
    "print(\"2D arraydeki 2 ve 6 elemanları:\", array2d[0, 1:3])\n",
    "\n",
    "# 3, 9, 5 elemanları\n",
    "print(\"2D arraydeki 3, 9, 5 elemanları:\", array2d[1, 1:])\n",
    "\n",
    "# 21, 8, 11 elemanları\n",
    "print(\"3D arraydeki 21, 8, 11 elemanları:\", array3d[0, 1, :])\n",
    "\n",
    "# 6, 20 elemanları\n",
    "print(\"3D arraydeki 6, 20 elemanları:\", array3d[1, 0, 1:3])\n"
   ]
  },
  {
   "cell_type": "markdown",
   "id": "6079fac9-ad96-43be-8578-e5f74520152e",
   "metadata": {},
   "source": [
    "5. 5 satır 3 sütunluk sıfırlardan ve birlerden oluşan iki tane iki boyutlu array oluşturalım. Bu arrayleri satır ve sütun bazında birleştirelim."
   ]
  },
  {
   "cell_type": "code",
   "execution_count": 5,
   "id": "bb32f84c-7113-42eb-a003-9ccb488f3276",
   "metadata": {},
   "outputs": [
    {
     "name": "stdout",
     "output_type": "stream",
     "text": [
      "Satır bazında birleştirme:\n",
      " [[0 0 0]\n",
      " [0 0 0]\n",
      " [0 0 0]\n",
      " [0 0 0]\n",
      " [0 0 0]\n",
      " [1 1 1]\n",
      " [1 1 1]\n",
      " [1 1 1]\n",
      " [1 1 1]\n",
      " [1 1 1]]\n",
      "Sütun bazında birleştirme:\n",
      " [[0 0 0 1 1 1]\n",
      " [0 0 0 1 1 1]\n",
      " [0 0 0 1 1 1]\n",
      " [0 0 0 1 1 1]\n",
      " [0 0 0 1 1 1]]\n"
     ]
    }
   ],
   "source": [
    "# 5x3 sıfır ve birlerden oluşan arrayler\n",
    "zeros_array = np.zeros((5, 3), dtype=int)\n",
    "ones_array = np.ones((5, 3), dtype=int)\n",
    "\n",
    "# Satır bazında birleştirme (dikey - alt alta)\n",
    "concat_axis0 = np.concatenate((zeros_array, ones_array), axis=0)\n",
    "print(\"Satır bazında birleştirme:\\n\", concat_axis0)\n",
    "\n",
    "# Sütun bazında birleştirme (yatay - yan yana)\n",
    "concat_axis1 = np.concatenate((zeros_array, ones_array), axis=1)\n",
    "print(\"Sütun bazında birleştirme:\\n\", concat_axis1)\n"
   ]
  }
 ],
 "metadata": {
  "kernelspec": {
   "display_name": "Python 3 (ipykernel)",
   "language": "python",
   "name": "python3"
  },
  "language_info": {
   "codemirror_mode": {
    "name": "ipython",
    "version": 3
   },
   "file_extension": ".py",
   "mimetype": "text/x-python",
   "name": "python",
   "nbconvert_exporter": "python",
   "pygments_lexer": "ipython3",
   "version": "3.12.7"
  }
 },
 "nbformat": 4,
 "nbformat_minor": 5
}
