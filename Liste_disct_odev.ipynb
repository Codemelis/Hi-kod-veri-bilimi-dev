{
 "cells": [
  {
   "cell_type": "markdown",
   "id": "6318af60-8594-4881-aadb-c555d7667dbd",
   "metadata": {},
   "source": [
    "### Ödev 1\n",
    "\n",
    "liste = [\"Python\",True,9,\"3\",8.4,\"Hi-Kod\",\"False\",4.7]\n",
    "\n",
    "1. Aşağıdaki işlemleri indexing ve slicing kullanarak liste üzerinde uygulayın.\n",
    "\n",
    "   - \"3\" değerine ulaşmak için indexleme yapın.\n",
    "   - \"Hi-Kod\" değerine ulaşmak için indexleme yapın.\n",
    "   - 4.7 değerine ulaşmak için indexleme yapın.\n",
    "   - 9,\"3\",8.4,\"Hi-Kod\" değerlerine ulaşmak için slicing yapın.\n",
    "   - 8.4,\"Hi-Kod\",\"False\",4.7 değerlerine ulaşmak için slicing yapın."
   ]
  },
  {
   "cell_type": "code",
   "execution_count": 2,
   "id": "6b899d05-e232-49a7-92e9-ce649899cc37",
   "metadata": {},
   "outputs": [],
   "source": [
    "liste = [\"Python\",True,9,\"3\",8.4,\"Hi-Kod\",\"False\",4.7]"
   ]
  },
  {
   "cell_type": "code",
   "execution_count": 3,
   "id": "5532bb80-87e2-43ec-9788-71f6233bb863",
   "metadata": {},
   "outputs": [
    {
     "data": {
      "text/plain": [
       "'3'"
      ]
     },
     "execution_count": 3,
     "metadata": {},
     "output_type": "execute_result"
    }
   ],
   "source": [
    "liste[3]"
   ]
  },
  {
   "cell_type": "code",
   "execution_count": 4,
   "id": "3d892627-b922-425e-b848-044015b9f11d",
   "metadata": {},
   "outputs": [
    {
     "data": {
      "text/plain": [
       "'Hi-Kod'"
      ]
     },
     "execution_count": 4,
     "metadata": {},
     "output_type": "execute_result"
    }
   ],
   "source": [
    "liste[5]"
   ]
  },
  {
   "cell_type": "code",
   "execution_count": 10,
   "id": "d8a82550-36e4-4a59-bd47-631c31b45fcd",
   "metadata": {},
   "outputs": [
    {
     "data": {
      "text/plain": [
       "4.7"
      ]
     },
     "execution_count": 10,
     "metadata": {},
     "output_type": "execute_result"
    }
   ],
   "source": [
    "liste[7]\n",
    "liste[-1]"
   ]
  },
  {
   "cell_type": "code",
   "execution_count": 11,
   "id": "b67b91d1-7a16-4521-bf4e-75682f68c905",
   "metadata": {},
   "outputs": [
    {
     "data": {
      "text/plain": [
       "[9, '3', 8.4, 'Hi-Kod']"
      ]
     },
     "execution_count": 11,
     "metadata": {},
     "output_type": "execute_result"
    }
   ],
   "source": [
    "liste[2:6]"
   ]
  },
  {
   "cell_type": "code",
   "execution_count": 12,
   "id": "6fe3bb11-e39f-408d-9e4a-50e375acbdeb",
   "metadata": {},
   "outputs": [
    {
     "data": {
      "text/plain": [
       "[8.4, 'Hi-Kod', 'False', 4.7]"
      ]
     },
     "execution_count": 12,
     "metadata": {},
     "output_type": "execute_result"
    }
   ],
   "source": [
    "liste[4:8]"
   ]
  },
  {
   "cell_type": "markdown",
   "id": "82d5d1a4-ab78-48e3-8909-5718ad8446ec",
   "metadata": {},
   "source": [
    "### Ödev 2\n",
    "\n",
    "Verilen listede bulunan string veri tipindeki öğeleri yeni_liste isimli listeye eklenir.\n",
    "\n",
    "liste = [\"Python\",True,9,\"3\",8.4,\"Hi-Kod\",\"False\",4.7]"
   ]
  },
  {
   "cell_type": "code",
   "execution_count": 29,
   "id": "96093f19-05d6-4bc0-8d59-579365fab643",
   "metadata": {},
   "outputs": [],
   "source": [
    "liste = [\"Python\",True,9,\"3\",8.4,\"Hi-Kod\",\"False\",4.7]"
   ]
  },
  {
   "cell_type": "code",
   "execution_count": 31,
   "id": "25d15eba-f076-45f1-b1d3-387e5a0c2f60",
   "metadata": {},
   "outputs": [
    {
     "data": {
      "text/plain": [
       "['Python', '3', 'Hi-Kod', 'False']"
      ]
     },
     "execution_count": 31,
     "metadata": {},
     "output_type": "execute_result"
    }
   ],
   "source": [
    "yeni_liste = []\n",
    "for eleman in liste:\n",
    "    if type(eleman) == str:\n",
    "        yeni_liste.append(eleman)\n",
    "\n",
    "yeni_liste\n",
    "    "
   ]
  },
  {
   "cell_type": "markdown",
   "id": "a43f92be-df10-4c7c-a3fc-3bb52fcc0f93",
   "metadata": {},
   "source": [
    "### Ödev 3\n",
    "\n",
    "Enumerate methodunu araştırın ve aşağıdaki örneği enumerate methodu ile yapın."
   ]
  },
  {
   "cell_type": "code",
   "execution_count": 32,
   "id": "a8e760a1-ef4c-4ec1-8436-d0aae0d8ad50",
   "metadata": {},
   "outputs": [
    {
     "name": "stdout",
     "output_type": "stream",
     "text": [
      "0. indexte bulunan meyve: elma\n",
      "1. indexte bulunan meyve: armut\n",
      "2. indexte bulunan meyve: çilek\n"
     ]
    }
   ],
   "source": [
    "meyveler =['elma','armut','çilek']\n",
    "for index in range(len(meyveler)):\n",
    "    print(\"{}. indexte bulunan meyve: {}\".format(index,meyveler[index]))"
   ]
  },
  {
   "cell_type": "code",
   "execution_count": 36,
   "id": "3ddcdc85-3a3c-4f6c-aeee-f056d45a030f",
   "metadata": {},
   "outputs": [
    {
     "name": "stdout",
     "output_type": "stream",
     "text": [
      "0 . indexte bulunan meyve: elma\n",
      "1 . indexte bulunan meyve: armut\n",
      "2 . indexte bulunan meyve: çilek\n"
     ]
    }
   ],
   "source": [
    "meyveler = ['elma','armut','çilek']\n",
    "for index,meyve in enumerate(meyveler, 0):\n",
    "    print('{} . indexte bulunan meyve: {}'.format(index , meyve))"
   ]
  },
  {
   "cell_type": "markdown",
   "id": "daa1f24e-ff80-411a-93a8-10c4bbd19621",
   "metadata": {},
   "source": [
    "## Sozluk\n",
    "1. Bir sözlük oluşturulur ve bu sözlükte öğrencilerin isimleri ve Matematik, Fizik, Kimya notları tutulur. Kullanıcıdan isim ve ders ismi(Matematik, Fizik, Kimya) istenir ve bu bilgilere göre çıktı verilir.\n",
    "\n",
    "2. Sözlük üzerinde değerleri değiştirme, yeni değer ekleme, kullanıcıya ulaşmak istediği bilgileri sorma gibi uygulamalar yapın.\n",
    "Sozluk"
   ]
  },
  {
   "cell_type": "code",
   "execution_count": null,
   "id": "65345eba-fd73-4935-990f-1e6a03ff302b",
   "metadata": {},
   "outputs": [
    {
     "name": "stdout",
     "output_type": "stream",
     "text": [
      "\n",
      "--- Öğrenci Not Sistemi ---\n",
      "1 - Not Sorgula\n",
      "2 - Not Güncelle\n",
      "3 - Yeni Öğrenci Ekle\n",
      "4 - Tüm Öğrencileri Listele\n",
      "5 - Çıkış\n"
     ]
    }
   ],
   "source": [
    "\n",
    "ogrenciler = {\n",
    "    \"Ali\": {\"Matematik\": 85, \"Fizik\": 78, \"Kimya\": 92},\n",
    "    \"Ayşe\": {\"Matematik\": 90, \"Fizik\": 88, \"Kimya\": 76},\n",
    "    \"Mehmet\": {\"Matematik\": 70, \"Fizik\": 60, \"Kimya\": 80}\n",
    "}\n",
    "\n",
    "def not_sorgula():\n",
    "    isim = input(\"Öğrenci ismi giriniz: \")\n",
    "    ders = input(\"Hangi dersin notunu öğrenmek istiyorsunuz? (Matematik/Fizik/Kimya): \")\n",
    "    if isim in ogrenciler:\n",
    "        if ders in ogrenciler[isim]:\n",
    "            print(f\"{isim} adlı öğrencinin {ders} notu: {ogrenciler[isim][ders]}\")\n",
    "        else:\n",
    "            print(f\"{ders} dersi bulunamadı.\")\n",
    "    else:\n",
    "        print(\"Öğrenci bulunamadı.\")\n",
    "\n",
    "def not_guncelle():\n",
    "    isim = input(\"Notunu güncellemek istediğiniz öğrencinin ismini girin: \")\n",
    "    ders = input(\"Ders adını girin (Matematik/Fizik/Kimya): \")\n",
    "    yeni_not = int(input(f\"{isim} öğrencisinin {ders} notunu girin: \"))\n",
    "    if isim in ogrenciler:\n",
    "        ogrenciler[isim][ders] = yeni_not\n",
    "        print(f\"{isim} öğrencisinin {ders} notu {yeni_not} olarak güncellendi.\")\n",
    "    else:\n",
    "        print(\"Öğrenci bulunamadı.\")\n",
    "\n",
    "def yeni_ogrenci_ekle():\n",
    "    isim = input(\"Yeni öğrencinin ismini girin: \")\n",
    "    mat = int(input(\"Matematik notunu girin: \"))\n",
    "    fiz = int(input(\"Fizik notunu girin: \"))\n",
    "    kim = int(input(\"Kimya notunu girin: \"))\n",
    "    ogrenciler[isim] = {\"Matematik\": mat, \"Fizik\": fiz, \"Kimya\": kim}\n",
    "    print(f\"{isim} adlı öğrenci başarıyla eklendi.\")\n",
    "\n",
    "def ogrencileri_listele():\n",
    "    print(\"\\nTüm öğrenciler ve notları:\")\n",
    "    for isim, dersler in ogrenciler.items():\n",
    "        print(f\"\\n{isim}:\")\n",
    "        for ders, notu in dersler.items():\n",
    "            print(f\"  {ders}: {notu}\")\n",
    "\n",
    "\n",
    "def menu():\n",
    "    while True:\n",
    "        print(\"\\n--- Öğrenci Not Sistemi ---\")\n",
    "        print(\"1 - Not Sorgula\")\n",
    "        print(\"2 - Not Güncelle\")\n",
    "        print(\"3 - Yeni Öğrenci Ekle\")\n",
    "        print(\"4 - Tüm Öğrencileri Listele\")\n",
    "        print(\"5 - Çıkış\")\n",
    "\n",
    "        secim = input(\"Seçiminizi yapınız (1-5): \")\n",
    "\n",
    "        if secim == \"1\":\n",
    "            not_sorgula()\n",
    "        elif secim == \"2\":\n",
    "            not_guncelle()\n",
    "        elif secim == \"3\":\n",
    "            yeni_ogrenci_ekle()\n",
    "        elif secim == \"4\":\n",
    "            ogrencileri_listele()\n",
    "        elif secim == \"5\":\n",
    "            print(\"Programdan çıkılıyor...\")\n",
    "            break\n",
    "        else:\n",
    "            print(\"Geçersiz seçim. Lütfen 1-5 arasında bir değer girin.\")\n",
    "\n",
    "\n",
    "menu()\n"
   ]
  },
  {
   "cell_type": "code",
   "execution_count": null,
   "id": "b546e8c3-d964-4580-ae82-1394006965fe",
   "metadata": {},
   "outputs": [],
   "source": []
  }
 ],
 "metadata": {
  "kernelspec": {
   "display_name": "Python 3 (ipykernel)",
   "language": "python",
   "name": "python3"
  },
  "language_info": {
   "codemirror_mode": {
    "name": "ipython",
    "version": 3
   },
   "file_extension": ".py",
   "mimetype": "text/x-python",
   "name": "python",
   "nbconvert_exporter": "python",
   "pygments_lexer": "ipython3",
   "version": "3.12.7"
  }
 },
 "nbformat": 4,
 "nbformat_minor": 5
}
