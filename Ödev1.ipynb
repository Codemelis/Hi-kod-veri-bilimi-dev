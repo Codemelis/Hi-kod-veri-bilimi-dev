{
 "cells": [
  {
   "cell_type": "code",
   "execution_count": 2,
   "id": "10bd8445-d5c0-47fb-bfa8-327cc3951a5a",
   "metadata": {},
   "outputs": [
    {
     "name": "stdout",
     "output_type": "stream",
     "text": [
      "x: 3.0 <class 'float'>\n"
     ]
    }
   ],
   "source": [
    "x = 3\n",
    "x = float(x)\n",
    "print(\"x:\",x, type(x))"
   ]
  },
  {
   "cell_type": "code",
   "execution_count": 5,
   "id": "f22b77a6-b2bb-46bd-9b20-60c82fcf11fa",
   "metadata": {},
   "outputs": [
    {
     "name": "stdout",
     "output_type": "stream",
     "text": [
      "y: 4 <class 'int'>\n"
     ]
    }
   ],
   "source": [
    "y = 4.5\n",
    "y = int(y)\n",
    "print(\"y:\",y, type(y))"
   ]
  },
  {
   "cell_type": "code",
   "execution_count": 6,
   "id": "bd4277db-940e-4d8b-8e12-09e3fe4abadd",
   "metadata": {},
   "outputs": [
    {
     "name": "stdout",
     "output_type": "stream",
     "text": [
      "z: 8 <class 'int'>\n"
     ]
    }
   ],
   "source": [
    "z = \"8\"\n",
    "z = int(z)\n",
    "print(\"z:\",z, type(z))"
   ]
  },
  {
   "cell_type": "code",
   "execution_count": 7,
   "id": "51180208-0463-4994-b355-bc9327690c8b",
   "metadata": {},
   "outputs": [
    {
     "name": "stdout",
     "output_type": "stream",
     "text": [
      "a: 12.0 <class 'float'>\n"
     ]
    }
   ],
   "source": [
    "a = \"12\"\n",
    "a = float(a)\n",
    "print(\"a:\" ,a, type(a))"
   ]
  },
  {
   "cell_type": "code",
   "execution_count": 9,
   "id": "00346dca-bdf5-4200-8754-9358cbba67fd",
   "metadata": {},
   "outputs": [
    {
     "name": "stdout",
     "output_type": "stream",
     "text": [
      "b: 46 <class 'int'>\n"
     ]
    }
   ],
   "source": [
    "b = \"46.8\"\n",
    "b = float(b)\n",
    "b = int(b)\n",
    "print(\"b:\",b,type(b))"
   ]
  },
  {
   "cell_type": "code",
   "execution_count": null,
   "id": "4bda2a0b-0b7f-41fc-a28f-518255550480",
   "metadata": {},
   "outputs": [],
   "source": []
  }
 ],
 "metadata": {
  "kernelspec": {
   "display_name": "Python 3 (ipykernel)",
   "language": "python",
   "name": "python3"
  },
  "language_info": {
   "codemirror_mode": {
    "name": "ipython",
    "version": 3
   },
   "file_extension": ".py",
   "mimetype": "text/x-python",
   "name": "python",
   "nbconvert_exporter": "python",
   "pygments_lexer": "ipython3",
   "version": "3.12.7"
  }
 },
 "nbformat": 4,
 "nbformat_minor": 5
}
